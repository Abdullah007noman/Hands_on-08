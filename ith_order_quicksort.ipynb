{
  "nbformat": 4,
  "nbformat_minor": 0,
  "metadata": {
    "colab": {
      "provenance": []
    },
    "kernelspec": {
      "name": "python3",
      "display_name": "Python 3"
    },
    "language_info": {
      "name": "python"
    }
  },
  "cells": [
    {
      "cell_type": "code",
      "execution_count": 1,
      "metadata": {
        "colab": {
          "base_uri": "https://localhost:8080/"
        },
        "id": "86LO-kfn1PPH",
        "outputId": "f37b4aa6-d27f-4a19-dc65-e87c5819179c"
      },
      "outputs": [
        {
          "output_type": "stream",
          "name": "stdout",
          "text": [
            "The 4-th order statistic is: 6\n"
          ]
        }
      ],
      "source": [
        "def quicksort(arr):\n",
        "    if len(arr) <= 1:\n",
        "        return arr\n",
        "    pivot = arr[len(arr) // 2]\n",
        "    left = [x for x in arr if x < pivot]\n",
        "    middle = [x for x in arr if x == pivot]\n",
        "    right = [x for x in arr if x > pivot]\n",
        "    return quicksort(left) + middle + quicksort(right)\n",
        "\n",
        "def ith_order_statistic(arr, i):\n",
        "    def quickselect(arr, left, right, i):\n",
        "        if left == right:\n",
        "            return arr[left]\n",
        "\n",
        "        pivot_index = partition(arr, left, right)\n",
        "\n",
        "        if i == pivot_index:\n",
        "            return arr[i]\n",
        "        elif i < pivot_index:\n",
        "            return quickselect(arr, left, pivot_index - 1, i)\n",
        "        else:\n",
        "            return quickselect(arr, pivot_index + 1, right, i)\n",
        "\n",
        "    def partition(arr, left, right):\n",
        "        pivot = arr[right]\n",
        "        i = left\n",
        "        for j in range(left, right):\n",
        "            if arr[j] <= pivot:\n",
        "                arr[i], arr[j] = arr[j], arr[i]\n",
        "                i += 1\n",
        "        arr[i], arr[right] = arr[right], arr[i]\n",
        "        return i\n",
        "\n",
        "    return quickselect(arr, 0, len(arr) - 1, i)\n",
        "\n",
        "# Example usage\n",
        "example_array = [3, 6, 8, 10, 1, 2, 1]\n",
        "i = 4\n",
        "ith_element = ith_order_statistic(example_array, i)\n",
        "\n",
        "# Displaying the result\n",
        "print(f\"The {i}-th order statistic is: {ith_element}\")\n"
      ]
    },
    {
      "cell_type": "code",
      "source": [],
      "metadata": {
        "id": "wxHxnBr31ZrS"
      },
      "execution_count": null,
      "outputs": []
    }
  ]
}